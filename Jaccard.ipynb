{
 "cells": [
  {
   "cell_type": "code",
   "execution_count": 1,
   "metadata": {
    "collapsed": true
   },
   "outputs": [],
   "source": [
    "#Spark context\n",
    "sc = SparkContext.getOrCreate()"
   ]
  },
  {
   "cell_type": "code",
   "execution_count": 2,
   "metadata": {
    "collapsed": false
   },
   "outputs": [
    {
     "name": "stdout",
     "output_type": "stream",
     "text": [
      "line numbers= 5\n"
     ]
    }
   ],
   "source": [
    "#Read data\n",
    "rdd=sc.textFile('input.txt')\n",
    "print('line numbers=',rdd.count())"
   ]
  },
  {
   "cell_type": "code",
   "execution_count": 3,
   "metadata": {
    "collapsed": false
   },
   "outputs": [],
   "source": [
    "#clean data, e.g., filter empty spaces and convert all to lower case\n",
    "def lowerCase(line):\n",
    "    values=[x.lower() for x in line]\n",
    "    return(values)\n",
    "    \n",
    "rddClean=rdd.map(lambda line: line.split(\" \")).map(lowerCase).filter(lambda w: w if (w!='') else None)\n"
   ]
  },
  {
   "cell_type": "code",
   "execution_count": 4,
   "metadata": {
    "collapsed": false
   },
   "outputs": [],
   "source": [
    "#Generate key pairs (co-occurrence) & frequency for each sentence\n",
    "import itertools\n",
    "from operator import add\n",
    "\n",
    "def pairLines(w):\n",
    "    values = [x for x in itertools.combinations(w, 2)]\n",
    "    return values\n",
    "\n",
    "rddPairsFreq=rddClean.map(pairLines).flatMap(lambda w: w).map(lambda w: (frozenset([max(w[0],w[1]),min(w[0],w[1])]),1)).reduceByKey(add)\n"
   ]
  },
  {
   "cell_type": "code",
   "execution_count": 5,
   "metadata": {
    "collapsed": false
   },
   "outputs": [],
   "source": [
    "# Make dictionary from documnet (all sentences) and compute frequency\n",
    "rddDictFreq=rddClean.flatMap(lambda w:w).map(lambda w:(w,1)).reduceByKey(add)\n"
   ]
  },
  {
   "cell_type": "code",
   "execution_count": 6,
   "metadata": {
    "collapsed": false
   },
   "outputs": [
    {
     "data": {
      "text/plain": [
       "[['julies', 'favorite', 0.3333333333333333],\n",
       " ['julies', '', 0.3333333333333333],\n",
       " ['julies', 'a', 0.3333333333333333],\n",
       " ['julies', 'blue', 0.3333333333333333],\n",
       " ['julies', 'than', 0.3333333333333333],\n",
       " ['julies', 'better', 0.3333333333333333],\n",
       " ['friend', 'the', 1.0],\n",
       " ['friend', 'red', 0.3333333333333333],\n",
       " ['friend', 'a', 0.5],\n",
       " ['friend', 'great', 1.0],\n",
       " ['friend', 'is', 0.3333333333333333],\n",
       " ['friend', 'dog', 0.2],\n",
       " ['big', 'the', 0.5],\n",
       " ['big', 'red', 0.6666666666666666],\n",
       " ['big', 'a', 0.5],\n",
       " ['big', 'great', 0.5],\n",
       " ['big', 'favourite', 0.5],\n",
       " ['big', 'animal', 0.5],\n",
       " ['big', 'is', 0.3333333333333333],\n",
       " ['big', 'clifford', 0.5],\n",
       " ['big', 'dog', 0.4],\n",
       " ['big', 'friend', 0.5],\n",
       " ['the', 'a', 0.5],\n",
       " ['the', 'great', 1.0],\n",
       " ['the', 'dog', 0.2],\n",
       " ['is', 'favorite', 0.3333333333333333],\n",
       " ['is', 'the', 0.3333333333333333],\n",
       " ['is', 'red', 0.3333333333333333],\n",
       " ['is', 'a', 0.6666666666666666],\n",
       " ['is', 'great', 0.3333333333333333],\n",
       " ['is', 'animal', 0.3333333333333333],\n",
       " ['is', 'blue', 0.3333333333333333],\n",
       " ['is', 'than', 0.3333333333333333],\n",
       " ['is', 'dog', 0.6],\n",
       " ['is', 'julies', 0.6666666666666666],\n",
       " ['is', 'better', 0.3333333333333333],\n",
       " ['than', 'blue', 1.0],\n",
       " ['animal', 'favorite', 0.5],\n",
       " ['animal', 'red', 0.3333333333333333],\n",
       " ['animal', 'a', 0.5],\n",
       " ['animal', 'favourite', 0.5],\n",
       " ['animal', 'dog', 0.4],\n",
       " ['animal', 'julies', 0.3333333333333333],\n",
       " ['a', 'favorite', 0.5],\n",
       " ['a', 'great', 0.5],\n",
       " ['dog', 'favorite', 0.2],\n",
       " ['dog', '', 0.2],\n",
       " ['dog', 'a', 0.4],\n",
       " ['dog', 'great', 0.2],\n",
       " ['dog', 'favourite', 0.2],\n",
       " ['dog', 'blue', 0.2],\n",
       " ['dog', 'than', 0.2],\n",
       " ['dog', 'julies', 0.6],\n",
       " ['dog', 'better', 0.2],\n",
       " ['red', '', 0.3333333333333333],\n",
       " ['red', 'the', 0.3333333333333333],\n",
       " ['red', 'a', 0.3333333333333333],\n",
       " ['red', 'great', 0.3333333333333333],\n",
       " ['red', 'favourite', 0.3333333333333333],\n",
       " ['red', 'dog', 0.6],\n",
       " ['red', 'julies', 0.3333333333333333],\n",
       " ['clifford', '', 0.5],\n",
       " ['clifford', 'the', 0.5],\n",
       " ['clifford', 'red', 0.6666666666666666],\n",
       " ['clifford', 'a', 0.5],\n",
       " ['clifford', 'great', 0.5],\n",
       " ['clifford', 'is', 0.3333333333333333],\n",
       " ['clifford', 'dog', 0.4],\n",
       " ['clifford', 'friend', 0.5],\n",
       " ['clifford', 'julies', 0.3333333333333333],\n",
       " ['better', 'blue', 1.0],\n",
       " ['better', 'than', 1.0]]"
      ]
     },
     "execution_count": 6,
     "metadata": {},
     "output_type": "execute_result"
    }
   ],
   "source": [
    "# Compute Jaccard\n",
    "rddJaccard_=rddPairsFreq.map(lambda w: [list(w[0])[0],list(w[0])[1],w[1]]).map(lambda w: (w[0],w[1:])).join(rddDictFreq)\n",
    "rddJaccard=rddJaccard_.map(lambda w: (w[1][0][0],[w[0],w[1][0][1],w[1][1]])).join(rddDictFreq).map(lambda x: [x[0],x[1][0][0],x[1][0][1]/max(x[1][0][2],x[1][1])])\n",
    "rddJaccard.collect()"
   ]
  }
 ],
 "metadata": {
  "kernelspec": {
   "display_name": "Python 3",
   "language": "python",
   "name": "python3"
  },
  "language_info": {
   "codemirror_mode": {
    "name": "ipython",
    "version": 3
   },
   "file_extension": ".py",
   "mimetype": "text/x-python",
   "name": "python",
   "nbconvert_exporter": "python",
   "pygments_lexer": "ipython3",
   "version": "3.6.0"
  }
 },
 "nbformat": 4,
 "nbformat_minor": 2
}
